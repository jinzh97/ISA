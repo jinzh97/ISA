{
 "cells": [
  {
   "cell_type": "code",
   "execution_count": 41,
   "metadata": {
    "collapsed": true
   },
   "outputs": [],
   "source": [
    "with open(\"test.txt\") as f:\n",
    "    content = f.readlines()\n",
    "content = [x.strip() for x in content] "
   ]
  },
  {
   "cell_type": "code",
   "execution_count": 42,
   "metadata": {
    "collapsed": true
   },
   "outputs": [],
   "source": [
    "content = [line for line in content if line != '' ]"
   ]
  },
  {
   "cell_type": "code",
   "execution_count": 43,
   "metadata": {},
   "outputs": [
    {
     "name": "stdout",
     "output_type": "stream",
     "text": [
      "assign rom[275] = 'b000000000; //SETI 0\n",
      "assign rom[276] = 'b110000001; //STORE 0 R1\n",
      "assign rom[277] = 'b000001000; //SETI 8\n",
      "assign rom[278] = 'b110100100; //SHIFT 0 4\n",
      "assign rom[279] = 'b110001110; //STORE 0 R14\n",
      "assign rom[280] = 'b101101110; //LOAD 0 R14 //PART 3\n",
      "assign rom[281] = 'b011101101; //SEQ R13\n",
      "11111111111111111111111111111111111 BONE\n",
      "assign rom[283] = 'b101111110; //LOAD 1 R14\n",
      "assign rom[284] = 'b110110100; //SHIFT 1 4\n",
      "assign rom[285] = 'b010011111; //OR 1 R15\n",
      "assign rom[286] = 'b011100000; //SEQ R0\n",
      "11111111111111111111111111111111111 BONE\n",
      "assign rom[288] = 'b101111110; //LOAD 1 R14\n",
      "assign rom[289] = 'b110100001; //SHIFT 0 1\n",
      "assign rom[290] = 'b110110100; //SHIFT 1 4\n",
      "assign rom[291] = 'b010011111; //OR 1 R15\n",
      "assign rom[292] = 'b011100000; //SEQ R0\n",
      "11111111111111111111111111111111111 BONE\n",
      "assign rom[294] = 'b101111110; //LOAD 1 R14\n",
      "assign rom[295] = 'b110100010; //SHIFT 0 2\n",
      "assign rom[296] = 'b110110100; //SHIFT 1 4\n",
      "assign rom[297] = 'b010011111; //OR 1 R15\n",
      "assign rom[298] = 'b011100000; //SEQ R0\n",
      "11111111111111111111111111111111111 BONE\n",
      "assign rom[300] = 'b101111110; //LOAD 1 R14\n",
      "assign rom[301] = 'b110100011; //SHIFT 0 3\n",
      "assign rom[302] = 'b110110100; //SHIFT 1 4\n",
      "assign rom[303] = 'b010011111; //OR 1 R15\n",
      "assign rom[304] = 'b011100000; //SEQ R0\n",
      "11111111111111111111111111111111111 BONE\n",
      "assign rom[306] = 'b101111110; //LOAD 1 R14\n",
      "assign rom[307] = 'b110100100; //SHIFT 0 4\n",
      "assign rom[308] = 'b110110100; //SHIFT 1 4\n",
      "assign rom[309] = 'b010011111; //OR 1 R15\n",
      "assign rom[310] = 'b011100000; //SEQ R0\n",
      "11111111111111111111111111111111111 BZERO\n",
      "assign rom[312] = 'b010100001; //ADDR R1 //INC\n",
      "assign rom[313] = 'b110000001; //STORE 0 R1\n",
      "assign rom[314] = 'b101101110; //LOAD 0 R14\n",
      "assign rom[315] = 'b001000001; //ADDI 1\n",
      "assign rom[316] = 'b110001110; //STORE 0 R14\n",
      "11111111111111111111111111111111111 JUMP\n",
      "assign rom[318] = 'b101101110; //LOAD 0 R14 //INC2\n",
      "assign rom[319] = 'b001000001; //ADDI 1\n",
      "assign rom[320] = 'b110001110; //STORE 0 R14\n",
      "11111111111111111111111111111111111 JUMP\n"
     ]
    }
   ],
   "source": [
    "lineCount = 275\n",
    "for line in content:\n",
    "    line = line.replace(',', '')\n",
    "    instruction = line.split()\n",
    "    generateInstruction(instruction, lineCount)\n",
    "    lineCount += 1"
   ]
  },
  {
   "cell_type": "code",
   "execution_count": 35,
   "metadata": {
    "collapsed": true
   },
   "outputs": [],
   "source": [
    "def generateInstruction(inst, lineCount):\n",
    "    n = inst[0]\n",
    "    \n",
    "    if n == \"SETI\":\n",
    "        print(\"assign rom[\"  + str(lineCount) + \"] = 'b0000\" + convertToBin(inst[1], 1)+ \"; //\" + ' '.join(str(e) for e in inst))\n",
    "    elif n == \"SLT\":\n",
    "        print(\"assign rom[\"  + str(lineCount) + \"] = 'b0001\" + convertToBin(inst[1][1:], 1)+ \"; //\" + ' '.join(str(e) for e in inst))\n",
    "    elif n == \"ADDI\":\n",
    "        print(\"assign rom[\"  + str(lineCount) + \"] = 'b0010\" + convertToBin(inst[1], 1)+ \"; //\" + ' '.join(str(e) for e in inst))\n",
    "    elif n == \"SUBI\":\n",
    "        print(\"assign rom[\"  + str(lineCount) + \"] = 'b0011\" + convertToBin(inst[1], 1)+ \"; //\" + ' '.join(str(e) for e in inst))\n",
    "    elif n == \"OR\":\n",
    "        print(\"assign rom[\"  + str(lineCount) + \"] = 'b0100\" + inst[1] + convertToBin(inst[2][1:], 0)+ \"; //\" + ' '.join(str(e) for e in inst))\n",
    "    elif n == \"ADDR\":\n",
    "        print(\"assign rom[\"  + str(lineCount) + \"] = 'b0101\" + convertToBin(inst[1][1:], 1)+ \"; //\" +' '.join(str(e) for e in inst))\n",
    "    elif n == \"JUMP\":\n",
    "        print(\"11111111111111111111111111111111111 JUMP\")\n",
    "    elif n == \"SEQ\":\n",
    "        print(\"assign rom[\"  + str(lineCount) + \"] = 'b0111\" + convertToBin(inst[1][1:], 1)+ \"; //\" +' '.join(str(e) for e in inst))\n",
    "    elif n == \"BONE\":\n",
    "        print(\"11111111111111111111111111111111111 BONE\")\n",
    "    elif n == \"BZERO\":\n",
    "        print(\"11111111111111111111111111111111111 BZERO\")\n",
    "    elif n == \"PARITY\":\n",
    "        print(\"assign rom[\"  + str(lineCount) + \"] = 'b1010\" + convertToBin(inst[1], 1)+ \"; //\" +' '.join(str(e) for e in inst))\n",
    "    elif n == \"LOAD\":\n",
    "        print(\"assign rom[\"  + str(lineCount) + \"] = 'b1011\" + inst[1] + convertToBin(inst[2][1:], 0)+ \"; //\" +' '.join(str(e) for e in inst))\n",
    "    elif n == \"STORE\":\n",
    "        print(\"assign rom[\"  + str(lineCount) + \"] = 'b1100\" + inst[1] + convertToBin(inst[2][1:], 0)+ \"; //\" +' '.join(str(e) for e in inst))\n",
    "    elif n == \"SHIFT\":\n",
    "        print(\"assign rom[\"  + str(lineCount) + \"] = 'b1101\" + inst[1] + convertToBin(inst[2], 0)+ \"; //\" +' '.join(str(e) for e in inst))\n",
    "    elif n == \"SHIFTR\":\n",
    "        print(\"assign rom[\"  + str(lineCount) + \"] = 'b1110\" + inst[1] + convertToBin(inst[2][1:], 0) + \"; //\" +' '.join(str(e) for e in inst))\n",
    "    elif n == \"STOP\":\n",
    "        print(\"assign rom[\"  + str(lineCount) + \"] = 'b111111111; //\" +' '.join(str(e) for e in inst))\n",
    "    else:\n",
    "        print(\"wtf happened\", inst)\n",
    "        "
   ]
  },
  {
   "cell_type": "code",
   "execution_count": 36,
   "metadata": {
    "collapsed": true
   },
   "outputs": [],
   "source": [
    "def convertToBin(arg, flag):\n",
    "    ret = str(bin(int(arg))[2:])\n",
    "    if flag:\n",
    "        rem = 5 - len(ret)\n",
    "        for i in range(rem):\n",
    "            ret = \"0\" + ret\n",
    "    else:\n",
    "        rem = 4 - len(ret)\n",
    "        for i in range(rem):\n",
    "            ret = \"0\" + ret\n",
    "    return ret"
   ]
  },
  {
   "cell_type": "code",
   "execution_count": null,
   "metadata": {
    "collapsed": true
   },
   "outputs": [],
   "source": []
  },
  {
   "cell_type": "code",
   "execution_count": null,
   "metadata": {
    "collapsed": true
   },
   "outputs": [],
   "source": []
  },
  {
   "cell_type": "code",
   "execution_count": null,
   "metadata": {
    "collapsed": true
   },
   "outputs": [],
   "source": []
  }
 ],
 "metadata": {
  "kernelspec": {
   "display_name": "Python 2",
   "language": "python",
   "name": "python2"
  },
  "language_info": {
   "codemirror_mode": {
    "name": "ipython",
    "version": 2
   },
   "file_extension": ".py",
   "mimetype": "text/x-python",
   "name": "python",
   "nbconvert_exporter": "python",
   "pygments_lexer": "ipython2",
   "version": "2.7.13"
  }
 },
 "nbformat": 4,
 "nbformat_minor": 2
}
